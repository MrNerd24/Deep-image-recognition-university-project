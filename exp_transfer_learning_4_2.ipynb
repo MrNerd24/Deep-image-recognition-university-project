{
 "cells": [
  {
   "cell_type": "markdown",
   "metadata": {},
   "source": [
    "# DATA20001 Deep Learning - Group Project\n",
    "## Image project\n",
    "\n",
    "21/05/2020\n",
    "- Second test of testing [resnext50_32x4d](https://pytorch.org/docs/stable/torchvision/models.html#id27) pretrained transfer learning model with hidden fully-connected layer with 256 nodes.\n",
    "  - this time with more epochs and fixed model selection criteria (f1)\n",
    "- Data preprocessing includes: (same preprocessing steps as exp_transfer_learning_2.ipynb)\n",
    "  - shuffle\n",
    "  - split: train=17k, val=1.5k, test=1.5k\n",
    "  - data augmentation\n"
   ]
  },
  {
   "cell_type": "code",
   "execution_count": 1,
   "metadata": {},
   "outputs": [],
   "source": [
    "# automatically reload dependencies and repository content so that kernel need not be restarted\n",
    "%load_ext autoreload\n",
    "%autoreload 2"
   ]
  },
  {
   "cell_type": "markdown",
   "metadata": {},
   "source": [
    "## Import dependencies and select correct device"
   ]
  },
  {
   "cell_type": "code",
   "execution_count": 2,
   "metadata": {},
   "outputs": [],
   "source": [
    "# import dependencies\n",
    "import train_model\n",
    "import eval_model\n",
    "import utils\n",
    "from image_dataset import ImageDataset\n",
    "from data_augmentation import DataAugmentation\n",
    "\n",
    "import time\n",
    "import torch\n",
    "from torchvision import models\n",
    "import matplotlib.pyplot as plt\n",
    "import numpy as np\n",
    "import pandas as pd\n",
    "import random"
   ]
  },
  {
   "cell_type": "code",
   "execution_count": 3,
   "metadata": {},
   "outputs": [
    {
     "name": "stdout",
     "output_type": "stream",
     "text": [
      "Using CPU\n"
     ]
    }
   ],
   "source": [
    "device = None\n",
    "if torch.cuda.is_available():\n",
    "    print(\"Using GPU\")\n",
    "    device = torch.device(\"cuda:0\")\n",
    "else:\n",
    "    print(\"Using CPU\")\n",
    "    device = torch.device(\"cpu\")"
   ]
  },
  {
   "cell_type": "markdown",
   "metadata": {},
   "source": [
    "## Define datasets\n",
    "\n",
    "- shuffle\n",
    "- train: 17k\n",
    "- valid: 1.5k\n",
    "- test: 1.5k"
   ]
  },
  {
   "cell_type": "code",
   "execution_count": 4,
   "metadata": {},
   "outputs": [
    {
     "name": "stdout",
     "output_type": "stream",
     "text": [
      "Saving test dataset temporarily so test can be performed after restarting kernel.\n",
      "# Train: 17000\n",
      "# Valid: 1500\n",
      "# Test: 1500\n"
     ]
    }
   ],
   "source": [
    "mapping_file = \"file_to_labels_table.csv\"\n",
    "df = pd.read_csv(mapping_file)\n",
    "train_idx, val_idx = utils.get_train_val_indexes(df, 0.85, shuffle=True)\n",
    "val_test_split_idx = int(val_idx.shape[0]*.5)\n",
    "test_idx = val_idx[:val_test_split_idx]\n",
    "val_idx = val_idx[val_test_split_idx:]\n",
    "\n",
    "dataAugmentation = DataAugmentation()\n",
    "trainDataset = ImageDataset(train_idx, dataAugmentation=dataAugmentation)\n",
    "valDataset = ImageDataset(val_idx)\n",
    "testDataset = ImageDataset(test_idx)\n",
    "\n",
    "print(\"Saving test dataset temporarily so test can be performed after restarting kernel.\")\n",
    "utils.save_pickle(testDataset, \"tmp_test_data_exp_transfer_learning_4.pkl\")\n",
    "print(\"# Train:\", len(trainDataset))\n",
    "print(\"# Valid:\", len(valDataset))\n",
    "print(\"# Test:\", len(testDataset))"
   ]
  },
  {
   "cell_type": "markdown",
   "metadata": {},
   "source": [
    "## Define the model architecture\n",
    "\n",
    "The initial transfer learning implementation"
   ]
  },
  {
   "cell_type": "code",
   "execution_count": 5,
   "metadata": {},
   "outputs": [],
   "source": [
    "preTrainedModel = models.resnext50_32x4d(pretrained=True)\n",
    "\n",
    "for param in preTrainedModel.parameters():\n",
    "    param.requires_grad = False\n",
    "\n",
    "num_ftrs = preTrainedModel.fc.in_features\n",
    "num_classes = 14\n",
    "\n",
    "preTrainedModel.fc = torch.nn.Sequential(\n",
    "    torch.nn.Linear(num_ftrs, 256),\n",
    "    torch.nn.ReLU(),\n",
    "    torch.nn.Linear(256, num_classes),\n",
    "    torch.nn.Sigmoid()\n",
    ")\n",
    "\n",
    "model = preTrainedModel.to(device)"
   ]
  },
  {
   "cell_type": "markdown",
   "metadata": {},
   "source": [
    "## Define test case\n",
    "\n",
    "Hyperparam search could be defined here. No hyperparam searches in this notebook as purpose of this test is to test the effect of data preprocessing technique on initial transfer learning model architecture and see how longer run on epochs affect loss.\n",
    "\n",
    "**Test objective**:\n",
    "\n",
    "- Testing second implementation of [resnext50_32x4d](https://pytorch.org/docs/stable/torchvision/models.html#id27) implementation of pretrained transfer learning models\n",
    "  - New addition: hidden fully-connected layer with 256 nodes\n",
    "- Data preprocessing includes data augmentation, shuffle and split train=17k, val=1.5k, test=1.5k\n",
    "- Data augmentation IS applied\n",
    "\n",
    "**Training results**:\n",
    "\n"
   ]
  },
  {
   "cell_type": "code",
   "execution_count": 7,
   "metadata": {},
   "outputs": [
    {
     "name": "stdout",
     "output_type": "stream",
     "text": [
      "Epoch 0/10\n",
      "----------\n",
      "Validating...\n",
      "\n",
      "Progress: 100%\n",
      "\n",
      "Loss: 0.6826 Accuracy: 0.5869\n",
      "Precision: 0.0736 Recall: 0.4142\n",
      "F1: 0.1251 Duration: 1m 12s\n",
      "\n",
      "Epoch 1/10\n",
      "----------\n",
      "Training...\n",
      "\n",
      "Progress: 100%\n",
      "\n",
      "Loss: 0.1553 Accuracy: 0.9434\n",
      "Precision: 0.6888 Recall: 0.4012\n",
      "F1: 0.5070 Duration: 20m 0s\n",
      "\n",
      "Validating...\n",
      "\n",
      "Progress: 100%\n",
      "\n",
      "Loss: 0.1362 Accuracy: 0.9470\n",
      "Precision: 0.6002 Recall: 0.7702\n",
      "F1: 0.6747 Duration: 1m 13s\n",
      "\n",
      "Epoch 2/10\n",
      "----------\n",
      "Training...\n",
      "\n",
      "Progress: 100%\n",
      "\n",
      "Loss: 0.1371 Accuracy: 0.9489\n",
      "Precision: 0.7245 Recall: 0.4767\n",
      "F1: 0.5751 Duration: 19m 34s\n",
      "\n",
      "Validating...\n",
      "\n",
      "Progress: 100%\n",
      "\n",
      "Loss: 0.1197 Accuracy: 0.9567\n",
      "Precision: 0.8316 Recall: 0.4916\n",
      "F1: 0.6180 Duration: 1m 14s\n",
      "\n",
      "Epoch 3/10\n",
      "----------\n",
      "Training...\n",
      "\n",
      "Progress: 100%\n",
      "\n",
      "Loss: 0.1322 Accuracy: 0.9510\n",
      "Precision: 0.7433 Recall: 0.4960\n",
      "F1: 0.5950 Duration: 19m 59s\n",
      "\n",
      "Validating...\n",
      "\n",
      "Progress: 100%\n",
      "\n",
      "Loss: 0.1095 Accuracy: 0.9591\n",
      "Precision: 0.7099 Recall: 0.7208\n",
      "F1: 0.7153 Duration: 1m 14s\n",
      "\n",
      "Epoch 4/10\n",
      "----------\n",
      "Training...\n",
      "\n",
      "Progress: 100%\n",
      "\n",
      "Loss: 0.1286 Accuracy: 0.9523\n",
      "Precision: 0.7535 Recall: 0.5082\n",
      "F1: 0.6070 Duration: 19m 51s\n",
      "\n",
      "Validating...\n",
      "\n",
      "Progress: 100%\n",
      "\n",
      "Loss: 0.1010 Accuracy: 0.9635\n",
      "Precision: 0.8012 Recall: 0.6486\n",
      "F1: 0.7169 Duration: 1m 19s\n",
      "\n",
      "Epoch 5/10\n",
      "----------\n",
      "Training...\n",
      "\n",
      "Progress: 100%\n",
      "\n",
      "Loss: 0.1280 Accuracy: 0.9526\n",
      "Precision: 0.7581 Recall: 0.5100\n",
      "F1: 0.6098 Duration: 19m 55s\n",
      "\n",
      "Validating...\n",
      "\n",
      "Progress: 100%\n",
      "\n",
      "Loss: 0.1083 Accuracy: 0.9600\n",
      "Precision: 0.7370 Recall: 0.6814\n",
      "F1: 0.7081 Duration: 1m 7s\n",
      "\n",
      "Epoch 6/10\n",
      "----------\n",
      "Training...\n",
      "\n",
      "Progress: 100%\n",
      "\n",
      "Loss: 0.1276 Accuracy: 0.9527\n",
      "Precision: 0.7556 Recall: 0.5141\n",
      "F1: 0.6119 Duration: 19m 55s\n",
      "\n",
      "Validating...\n",
      "\n",
      "Progress: 100%\n",
      "\n",
      "Loss: 0.1065 Accuracy: 0.9612\n",
      "Precision: 0.7363 Recall: 0.7108\n",
      "F1: 0.7233 Duration: 1m 13s\n",
      "\n",
      "Epoch 7/10\n",
      "----------\n",
      "Training...\n",
      "\n",
      "Progress: 100%\n",
      "\n",
      "Loss: 0.1261 Accuracy: 0.9532\n",
      "Precision: 0.7597 Recall: 0.5186\n",
      "F1: 0.6164 Duration: 20m 2s\n",
      "\n",
      "Validating...\n",
      "\n",
      "Progress: 100%\n",
      "\n",
      "Loss: 0.1046 Accuracy: 0.9612\n",
      "Precision: 0.7484 Recall: 0.6874\n",
      "F1: 0.7166 Duration: 1m 20s\n",
      "\n",
      "Epoch 8/10\n",
      "----------\n",
      "Training...\n",
      "\n",
      "Progress: 100%\n",
      "\n",
      "Loss: 0.1261 Accuracy: 0.9530\n",
      "Precision: 0.7588 Recall: 0.5171\n",
      "F1: 0.6151 Duration: 19m 57s\n",
      "\n",
      "Validating...\n",
      "\n",
      "Progress: 100%\n",
      "\n",
      "Loss: 0.1115 Accuracy: 0.9590\n",
      "Precision: 0.7950 Recall: 0.5725\n",
      "F1: 0.6656 Duration: 1m 17s\n",
      "\n",
      "Epoch 9/10\n",
      "----------\n",
      "Training...\n",
      "\n",
      "Progress: 100%\n",
      "\n",
      "Loss: 0.1232 Accuracy: 0.9546\n",
      "Precision: 0.7674 Recall: 0.5370\n",
      "F1: 0.6318 Duration: 20m 39s\n",
      "\n",
      "Validating...\n",
      "\n",
      "Progress: 100%\n",
      "\n",
      "Loss: 0.1059 Accuracy: 0.9627\n",
      "Precision: 0.7902 Recall: 0.6493\n",
      "F1: 0.7129 Duration: 1m 20s\n",
      "\n",
      "Epoch 10/10\n",
      "----------\n",
      "Training...\n",
      "\n",
      "Progress: 100%\n",
      "\n",
      "Loss: 0.1233 Accuracy: 0.9542\n",
      "Precision: 0.7671 Recall: 0.5291\n",
      "F1: 0.6262 Duration: 20m 41s\n",
      "\n",
      "Validating...\n",
      "\n",
      "Progress: 100%\n",
      "\n",
      "Loss: 0.1100 Accuracy: 0.9616\n",
      "Precision: 0.7578 Recall: 0.6774\n",
      "F1: 0.7153 Duration: 1m 20s\n",
      "\n",
      "Training complete in 214m 22s\n",
      "Best f1: 0.723317\n"
     ]
    }
   ],
   "source": [
    "n_epochs = 10\n",
    "\n",
    "model, logs = train_model.train_model(\n",
    "    model,\n",
    "    trainDataset,\n",
    "    valDataset,\n",
    "    device,\n",
    "    numberOfEpochs=n_epochs,\n",
    "    returnLogs=True\n",
    ")"
   ]
  },
  {
   "cell_type": "markdown",
   "metadata": {},
   "source": [
    "## Save model and logs\n",
    "\n",
    "It might be useful to save your model if you want to continue your work later, or use it for inference later."
   ]
  },
  {
   "cell_type": "code",
   "execution_count": 8,
   "metadata": {},
   "outputs": [],
   "source": [
    "pd.DataFrame(logs[\"val\"]).to_csv(\"exp_transfer_learning_4_2_val_logs.csv\", index=False)\n",
    "pd.DataFrame(logs[\"train\"]).to_csv(\"exp_transfer_learning_4_2_train_logs.csv\", index=False)\n",
    "torch.save(model, 'exp_transfer_learning_4_2_model.pkl')"
   ]
  },
  {
   "cell_type": "markdown",
   "metadata": {},
   "source": [
    "## Test model\n",
    "\n",
    "- Load model back from state_dict and perform test on testing set\n",
    "- Load test-set\n",
    "- Load training time logs of performance"
   ]
  },
  {
   "cell_type": "code",
   "execution_count": 4,
   "metadata": {},
   "outputs": [],
   "source": [
    "model = torch.load(\"exp_transfer_learning_4_2_model.pkl\")\n",
    "testDataset = utils.load_pickle(\"tmp_test_data_exp_transfer_learning_4.pkl\")\n",
    "val_logs = pd.read_csv(\"exp_transfer_learning_4_2_val_logs.csv\")\n",
    "train_logs = pd.read_csv(\"exp_transfer_learning_4_2_train_logs.csv\")\n",
    "y_hats, y_trues = eval_model.test_model(model, testDataset, device)"
   ]
  },
  {
   "cell_type": "markdown",
   "metadata": {},
   "source": [
    "### Validation set performance during training"
   ]
  },
  {
   "cell_type": "code",
   "execution_count": 5,
   "metadata": {},
   "outputs": [
    {
     "data": {
      "text/html": [
       "<div>\n",
       "<style scoped>\n",
       "    .dataframe tbody tr th:only-of-type {\n",
       "        vertical-align: middle;\n",
       "    }\n",
       "\n",
       "    .dataframe tbody tr th {\n",
       "        vertical-align: top;\n",
       "    }\n",
       "\n",
       "    .dataframe thead th {\n",
       "        text-align: right;\n",
       "    }\n",
       "</style>\n",
       "<table border=\"1\" class=\"dataframe\">\n",
       "  <thead>\n",
       "    <tr style=\"text-align: right;\">\n",
       "      <th></th>\n",
       "      <th>duration</th>\n",
       "      <th>loss</th>\n",
       "      <th>accuracy</th>\n",
       "      <th>precision</th>\n",
       "      <th>recall</th>\n",
       "      <th>f1</th>\n",
       "      <th>true positives</th>\n",
       "      <th>true negative</th>\n",
       "      <th>false positives</th>\n",
       "      <th>false negatives</th>\n",
       "    </tr>\n",
       "  </thead>\n",
       "  <tbody>\n",
       "    <tr>\n",
       "      <th>0</th>\n",
       "      <td>71.678905</td>\n",
       "      <td>0.682568</td>\n",
       "      <td>0.586857</td>\n",
       "      <td>0.073643</td>\n",
       "      <td>0.414162</td>\n",
       "      <td>0.125050</td>\n",
       "      <td>620</td>\n",
       "      <td>11704</td>\n",
       "      <td>7799</td>\n",
       "      <td>877</td>\n",
       "    </tr>\n",
       "    <tr>\n",
       "      <th>1</th>\n",
       "      <td>73.490075</td>\n",
       "      <td>0.136193</td>\n",
       "      <td>0.947048</td>\n",
       "      <td>0.600208</td>\n",
       "      <td>0.770207</td>\n",
       "      <td>0.674664</td>\n",
       "      <td>1153</td>\n",
       "      <td>18735</td>\n",
       "      <td>768</td>\n",
       "      <td>344</td>\n",
       "    </tr>\n",
       "    <tr>\n",
       "      <th>2</th>\n",
       "      <td>73.738859</td>\n",
       "      <td>0.119748</td>\n",
       "      <td>0.956667</td>\n",
       "      <td>0.831638</td>\n",
       "      <td>0.491650</td>\n",
       "      <td>0.617968</td>\n",
       "      <td>736</td>\n",
       "      <td>19354</td>\n",
       "      <td>149</td>\n",
       "      <td>761</td>\n",
       "    </tr>\n",
       "    <tr>\n",
       "      <th>3</th>\n",
       "      <td>73.632370</td>\n",
       "      <td>0.109511</td>\n",
       "      <td>0.959095</td>\n",
       "      <td>0.709868</td>\n",
       "      <td>0.720775</td>\n",
       "      <td>0.715280</td>\n",
       "      <td>1079</td>\n",
       "      <td>19062</td>\n",
       "      <td>441</td>\n",
       "      <td>418</td>\n",
       "    </tr>\n",
       "    <tr>\n",
       "      <th>4</th>\n",
       "      <td>78.860584</td>\n",
       "      <td>0.101002</td>\n",
       "      <td>0.963476</td>\n",
       "      <td>0.801155</td>\n",
       "      <td>0.648631</td>\n",
       "      <td>0.716870</td>\n",
       "      <td>971</td>\n",
       "      <td>19262</td>\n",
       "      <td>241</td>\n",
       "      <td>526</td>\n",
       "    </tr>\n",
       "    <tr>\n",
       "      <th>5</th>\n",
       "      <td>67.027928</td>\n",
       "      <td>0.108257</td>\n",
       "      <td>0.959952</td>\n",
       "      <td>0.736994</td>\n",
       "      <td>0.681363</td>\n",
       "      <td>0.708087</td>\n",
       "      <td>1020</td>\n",
       "      <td>19139</td>\n",
       "      <td>364</td>\n",
       "      <td>477</td>\n",
       "    </tr>\n",
       "    <tr>\n",
       "      <th>6</th>\n",
       "      <td>72.670639</td>\n",
       "      <td>0.106550</td>\n",
       "      <td>0.961238</td>\n",
       "      <td>0.736332</td>\n",
       "      <td>0.710755</td>\n",
       "      <td>0.723317</td>\n",
       "      <td>1064</td>\n",
       "      <td>19122</td>\n",
       "      <td>381</td>\n",
       "      <td>433</td>\n",
       "    </tr>\n",
       "    <tr>\n",
       "      <th>7</th>\n",
       "      <td>79.550334</td>\n",
       "      <td>0.104580</td>\n",
       "      <td>0.961238</td>\n",
       "      <td>0.748364</td>\n",
       "      <td>0.687375</td>\n",
       "      <td>0.716574</td>\n",
       "      <td>1029</td>\n",
       "      <td>19157</td>\n",
       "      <td>346</td>\n",
       "      <td>468</td>\n",
       "    </tr>\n",
       "    <tr>\n",
       "      <th>8</th>\n",
       "      <td>77.445552</td>\n",
       "      <td>0.111472</td>\n",
       "      <td>0.959000</td>\n",
       "      <td>0.794991</td>\n",
       "      <td>0.572478</td>\n",
       "      <td>0.665631</td>\n",
       "      <td>857</td>\n",
       "      <td>19282</td>\n",
       "      <td>221</td>\n",
       "      <td>640</td>\n",
       "    </tr>\n",
       "    <tr>\n",
       "      <th>9</th>\n",
       "      <td>79.875064</td>\n",
       "      <td>0.105867</td>\n",
       "      <td>0.962714</td>\n",
       "      <td>0.790244</td>\n",
       "      <td>0.649299</td>\n",
       "      <td>0.712871</td>\n",
       "      <td>972</td>\n",
       "      <td>19245</td>\n",
       "      <td>258</td>\n",
       "      <td>525</td>\n",
       "    </tr>\n",
       "    <tr>\n",
       "      <th>10</th>\n",
       "      <td>79.748029</td>\n",
       "      <td>0.110002</td>\n",
       "      <td>0.961571</td>\n",
       "      <td>0.757848</td>\n",
       "      <td>0.677355</td>\n",
       "      <td>0.715344</td>\n",
       "      <td>1014</td>\n",
       "      <td>19179</td>\n",
       "      <td>324</td>\n",
       "      <td>483</td>\n",
       "    </tr>\n",
       "  </tbody>\n",
       "</table>\n",
       "</div>"
      ],
      "text/plain": [
       "     duration      loss  accuracy  precision    recall        f1  \\\n",
       "0   71.678905  0.682568  0.586857   0.073643  0.414162  0.125050   \n",
       "1   73.490075  0.136193  0.947048   0.600208  0.770207  0.674664   \n",
       "2   73.738859  0.119748  0.956667   0.831638  0.491650  0.617968   \n",
       "3   73.632370  0.109511  0.959095   0.709868  0.720775  0.715280   \n",
       "4   78.860584  0.101002  0.963476   0.801155  0.648631  0.716870   \n",
       "5   67.027928  0.108257  0.959952   0.736994  0.681363  0.708087   \n",
       "6   72.670639  0.106550  0.961238   0.736332  0.710755  0.723317   \n",
       "7   79.550334  0.104580  0.961238   0.748364  0.687375  0.716574   \n",
       "8   77.445552  0.111472  0.959000   0.794991  0.572478  0.665631   \n",
       "9   79.875064  0.105867  0.962714   0.790244  0.649299  0.712871   \n",
       "10  79.748029  0.110002  0.961571   0.757848  0.677355  0.715344   \n",
       "\n",
       "    true positives  true negative  false positives  false negatives  \n",
       "0              620          11704             7799              877  \n",
       "1             1153          18735              768              344  \n",
       "2              736          19354              149              761  \n",
       "3             1079          19062              441              418  \n",
       "4              971          19262              241              526  \n",
       "5             1020          19139              364              477  \n",
       "6             1064          19122              381              433  \n",
       "7             1029          19157              346              468  \n",
       "8              857          19282              221              640  \n",
       "9              972          19245              258              525  \n",
       "10            1014          19179              324              483  "
      ]
     },
     "execution_count": 5,
     "metadata": {},
     "output_type": "execute_result"
    }
   ],
   "source": [
    "val_logs"
   ]
  },
  {
   "cell_type": "markdown",
   "metadata": {},
   "source": [
    "### Testing set performance"
   ]
  },
  {
   "cell_type": "code",
   "execution_count": 6,
   "metadata": {},
   "outputs": [
    {
     "name": "stdout",
     "output_type": "stream",
     "text": [
      "Testing set results.\n",
      " Accuracy\t0.958\n",
      " Precision\t0.712\n",
      " Recall \t0.665\n",
      " F1-score\t0.688\n"
     ]
    }
   ],
   "source": [
    "print(\"Testing set results.\")\n",
    "print(f\" Accuracy\\t{round(eval_model.get_metric(y_trues, y_hats, 'accuracy'), 3)}\")\n",
    "print(f\" Precision\\t{round(eval_model.get_metric(y_trues, y_hats, 'precision'), 3)}\")\n",
    "print(f\" Recall \\t{round(eval_model.get_metric(y_trues, y_hats, 'recall'), 3)}\")\n",
    "print(f\" F1-score\\t{round(eval_model.get_metric(y_trues, y_hats, 'f1'), 3)}\")"
   ]
  },
  {
   "cell_type": "markdown",
   "metadata": {},
   "source": [
    "### Prediction analysis\n",
    "\n",
    "- How many positives and negatives has been predicted.\n",
    "  - Tuples like: **(label, count)**\n",
    "- Binary confusion matrix for each label"
   ]
  },
  {
   "cell_type": "code",
   "execution_count": 8,
   "metadata": {},
   "outputs": [
    {
     "data": {
      "text/plain": [
       "[(0, 19592), (1, 1408)]"
      ]
     },
     "execution_count": 8,
     "metadata": {},
     "output_type": "execute_result"
    }
   ],
   "source": [
    "list(zip(*np.unique(y_hats, return_counts=True)))"
   ]
  },
  {
   "cell_type": "code",
   "execution_count": 55,
   "metadata": {},
   "outputs": [],
   "source": [
    "from sklearn.metrics import multilabel_confusion_matrix\n",
    "\n",
    "label_names = [\"clouds\", \"male\", \"bird\", \"dog\", \"river\", \"portrait\", \"baby\", \"night\", \"people\", \"female\", \"sea\", \"tree\", \"car\", \"flower\"]\n",
    "results = multilabel_confusion_matrix(y_trues, y_hats)"
   ]
  },
  {
   "cell_type": "code",
   "execution_count": 60,
   "metadata": {},
   "outputs": [
    {
     "name": "stdout",
     "output_type": "stream",
     "text": [
      "clouds\t0.451\t0.651\n",
      "male\t0.577\t0.655\n",
      "bird\t0.63\t0.5\n",
      "dog\t0.774\t0.649\n",
      "river\t0.0\tnan\n",
      "portra\t0.748\t0.702\n",
      "baby\t0.667\t0.211\n",
      "night\t0.308\t0.593\n",
      "people\t0.792\t0.851\n",
      "female\t0.574\t0.68\n",
      "sea\t0.267\t0.333\n",
      "tree\t0.659\t0.45\n",
      "car\t0.87\t0.714\n",
      "flower\t0.741\t0.889\n"
     ]
    },
    {
     "name": "stderr",
     "output_type": "stream",
     "text": [
      "/home/kasperireinikainen/env3.6/lib/python3.6/site-packages/ipykernel_launcher.py:7: RuntimeWarning: invalid value encountered in long_scalars\n",
      "  import sys\n"
     ]
    }
   ],
   "source": [
    "for i, conf_mtx in enumerate(results):\n",
    "    tp = conf_mtx[1, 1]\n",
    "    tn = conf_mtx[0, 0]\n",
    "    fp = conf_mtx[0, 1]\n",
    "    fn = conf_mtx[1, 0]\n",
    "    recall = tp/(tp+fn)\n",
    "    precision = tp/(tp+fp)\n",
    "    print(f\"{label_names[i][:6]}\\t{round(recall, 3)}\\t{round(precision, 3)}\")"
   ]
  },
  {
   "cell_type": "code",
   "execution_count": 53,
   "metadata": {},
   "outputs": [
    {
     "data": {
      "text/plain": [
       "array([[1496,    0],\n",
       "       [   4,    0]])"
      ]
     },
     "execution_count": 53,
     "metadata": {},
     "output_type": "execute_result"
    }
   ],
   "source": [
    "results[4]"
   ]
  },
  {
   "cell_type": "markdown",
   "metadata": {},
   "source": [
    "## Download test set\n",
    "\n",
    "The testset will be made available during the last week before the deadline and can be downloaded in the same way as the training set."
   ]
  },
  {
   "cell_type": "markdown",
   "metadata": {},
   "source": [
    "## Predict for test set\n",
    "\n",
    "You should return your predictions for the test set in a plain text file.  The text file contains one row for each test set image.  Each row contains a binary prediction for each label (separated by a single space), 1 if it's present in the image, and 0 if not. The order of the labels is as follows (alphabetic order of the label names):\n",
    "\n",
    "    baby bird car clouds dog female flower male night people portrait river sea tree\n",
    "\n",
    "An example row could like like this if your system predicts the presense of a bird and clouds:\n",
    "\n",
    "    0 1 0 1 0 0 0 0 0 0 0 0 0 0\n",
    "    \n",
    "The order of the rows should be according to the numeric order of the image numbers.  In the test set, this means that the first row refers to image `im20001.jpg`, the second to `im20002.jpg`, and so on."
   ]
  },
  {
   "cell_type": "markdown",
   "metadata": {},
   "source": [
    "If you have the prediction output matrix prepared in `y` you can use the following function to save it to a text file."
   ]
  },
  {
   "cell_type": "code",
   "execution_count": null,
   "metadata": {},
   "outputs": [],
   "source": [
    "np.savetxt('results.txt', y, fmt='%d')"
   ]
  }
 ],
 "metadata": {
  "kernelspec": {
   "display_name": "Python 3",
   "language": "python",
   "name": "python3"
  },
  "language_info": {
   "codemirror_mode": {
    "name": "ipython",
    "version": 3
   },
   "file_extension": ".py",
   "mimetype": "text/x-python",
   "name": "python",
   "nbconvert_exporter": "python",
   "pygments_lexer": "ipython3",
   "version": "3.6.8"
  }
 },
 "nbformat": 4,
 "nbformat_minor": 2
}
