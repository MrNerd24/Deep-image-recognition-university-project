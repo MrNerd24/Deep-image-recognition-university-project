{
 "cells": [
  {
   "cell_type": "code",
   "execution_count": 1,
   "metadata": {},
   "outputs": [],
   "source": [
    "# automatically reload dependencies and repository content so that kernel need not be restarted\n",
    "%load_ext autoreload\n",
    "%autoreload 2"
   ]
  },
  {
   "cell_type": "code",
   "execution_count": 2,
   "metadata": {},
   "outputs": [
    {
     "name": "stdout",
     "output_type": "stream",
     "text": [
      "Using GPU\n"
     ]
    }
   ],
   "source": [
    "import torch\n",
    "\n",
    "\n",
    "device = None\n",
    "if torch.cuda.is_available():\n",
    "    print(\"Using GPU\")\n",
    "    device = torch.device(\"cuda:0\")\n",
    "else:\n",
    "    print(\"Using CPU\")\n",
    "    device = torch.device(\"cpu\")"
   ]
  },
  {
   "cell_type": "code",
   "execution_count": 3,
   "metadata": {},
   "outputs": [],
   "source": [
    "from image_dataset import ImageDataset\n",
    "from data_augmentation import DataAugmentation\n",
    "\n",
    "dataAugmentation = DataAugmentation()\n",
    "dataset = ImageDataset(dataAugmentation = dataAugmentation)"
   ]
  },
  {
   "cell_type": "code",
   "execution_count": 4,
   "metadata": {},
   "outputs": [],
   "source": [
    "trainIds = range(1,19001)"
   ]
  },
  {
   "cell_type": "code",
   "execution_count": 5,
   "metadata": {},
   "outputs": [],
   "source": [
    "from data_balancer import DataBalancer\n",
    "\n",
    "dataBalancer = DataBalancer()\n",
    "\n",
    "trainIds = dataBalancer.balanceData(trainIds, 80000-19000, trainIds)"
   ]
  },
  {
   "cell_type": "code",
   "execution_count": 6,
   "metadata": {},
   "outputs": [],
   "source": [
    "trainDataset = ImageDataset(trainIds, dataAugmentation=dataAugmentation)\n",
    "valDataset = ImageDataset(range(19001,20001))"
   ]
  },
  {
   "cell_type": "code",
   "execution_count": 54,
   "metadata": {},
   "outputs": [
    {
     "name": "stdout",
     "output_type": "stream",
     "text": [
      "inception 1 iteration 1 layer output dimensions 12 * 56 * 56 = 37632\n",
      "inception 1 iteration 2 layer output dimensions 48 * 14 * 14 = 9408\n"
     ]
    }
   ],
   "source": [
    "from reseption_net import ReseptionNet\n",
    "from convolution_components import BasicConv2d, MaxPooling, IdentityConv2d\n",
    "\n",
    "torch.cuda.empty_cache()\n",
    "\n",
    "basicInceptionConfig = {\n",
    "    \"branches\": [\n",
    "        {\n",
    "            \"blocks\": [\n",
    "                {   \n",
    "                    \"convolution\": BasicConv2d,\n",
    "                    \"outputChannelMultiplier\": 1,\n",
    "                    \"kernelSize\": 1,\n",
    "                    \"padding\": 0,\n",
    "                    \"stride\": 1,\n",
    "                    \"dilation\": 1\n",
    "                },\n",
    "                {   \n",
    "                    \"convolution\": MaxPooling,\n",
    "                    \"outputChannelMultiplier\": 1,\n",
    "                    \"kernelSize\": 4,\n",
    "                    \"padding\": 0,\n",
    "                    \"stride\": 4,\n",
    "                    \"dilation\": 1\n",
    "                }\n",
    "            ]\n",
    "        },\n",
    "        {\n",
    "            \"blocks\": [\n",
    "                {\n",
    "                    \"convolution\": BasicConv2d,\n",
    "                    \"outputChannelMultiplier\": 1,\n",
    "                    \"kernelSize\": 3,\n",
    "                    \"padding\": 1,\n",
    "                    \"stride\": 1,\n",
    "                    \"dilation\": 1\n",
    "                },\n",
    "                {   \n",
    "                    \"convolution\": MaxPooling,\n",
    "                    \"outputChannelMultiplier\": 1,\n",
    "                    \"kernelSize\": 4,\n",
    "                    \"padding\": 0,\n",
    "                    \"stride\": 4,\n",
    "                    \"dilation\": 1\n",
    "                }\n",
    "            ]\n",
    "        },\n",
    "        {\n",
    "            \"blocks\": [\n",
    "                {\n",
    "                    \"convolution\": BasicConv2d,\n",
    "                    \"outputChannelMultiplier\": 1,\n",
    "                    \"kernelSize\": 5,\n",
    "                    \"padding\": 2,\n",
    "                    \"stride\": 1,\n",
    "                    \"dilation\": 1\n",
    "                },\n",
    "                {   \n",
    "                    \"convolution\": MaxPooling,\n",
    "                    \"outputChannelMultiplier\": 1,\n",
    "                    \"kernelSize\": 4,\n",
    "                    \"padding\": 0,\n",
    "                    \"stride\": 4,\n",
    "                    \"dilation\": 1\n",
    "                }\n",
    "            ]\n",
    "        },\n",
    "        {\n",
    "            \"blocks\": [\n",
    "                {\n",
    "                    \"convolution\": BasicConv2d,\n",
    "                    \"outputChannelMultiplier\": 1,\n",
    "                    \"kernelSize\": 7,\n",
    "                    \"padding\": 3,\n",
    "                    \"stride\": 1,\n",
    "                    \"dilation\": 1\n",
    "                },\n",
    "                {   \n",
    "                    \"convolution\": MaxPooling,\n",
    "                    \"outputChannelMultiplier\": 1,\n",
    "                    \"kernelSize\": 4,\n",
    "                    \"padding\": 0,\n",
    "                    \"stride\": 4,\n",
    "                    \"dilation\": 1\n",
    "                }\n",
    "            ]\n",
    "        }\n",
    "        \n",
    "    ],\n",
    "    \"shortcut\": {\n",
    "        \"convolution\": IdentityConv2d,\n",
    "        \"kernelSize\": 1,\n",
    "        \"padding\": 0,\n",
    "        \"stride\": 4,\n",
    "        \"dilation\": 1\n",
    "    }\n",
    "}\n",
    "\n",
    "channelReducerConfig = {\n",
    "    \"branches\": [\n",
    "        {\n",
    "            \"blocks\": [\n",
    "                {   \n",
    "                    \"convolution\": BasicConv2d,\n",
    "                    \"outputChannelMultiplier\": 0.1,\n",
    "                    \"kernelSize\": 1,\n",
    "                    \"padding\": 0,\n",
    "                    \"stride\": 1,\n",
    "                    \"dilation\": 1\n",
    "                }\n",
    "            ]\n",
    "        }\n",
    "    ],\n",
    "    \"shortcut\": {\n",
    "        \"convolution\": IdentityConv2d,\n",
    "        \"kernelSize\": 1,\n",
    "        \"padding\": 0,\n",
    "        \"stride\": 1,\n",
    "        \"dilation\": 1\n",
    "    }\n",
    "}\n",
    "    \n",
    "config = {\n",
    "    \"inceptions\": [\n",
    "        {\n",
    "            \"config\": basicInceptionConfig,\n",
    "            \"amount\": 2,\n",
    "        },\n",
    "        {\n",
    "            \"config\": channelReducerConfig,\n",
    "            \"amount\": 0,\n",
    "        },\n",
    "    ],\n",
    "    \"inChannels\": 3,\n",
    "    \"inDimensions\": (224, 224),\n",
    "    \"outputs\": 14,\n",
    "}\n",
    "\n",
    "model = ReseptionNet(device, config)"
   ]
  },
  {
   "cell_type": "code",
   "execution_count": null,
   "metadata": {},
   "outputs": [
    {
     "name": "stdout",
     "output_type": "stream",
     "text": [
      "Epoch 1/1\n",
      "----------\n",
      "Training...\n",
      "\n",
      "Progress: 0%\n",
      "Progress: 10%\n",
      "Progress: 20%\n",
      "Progress: 30%\n"
     ]
    }
   ],
   "source": [
    "from train_model import train_model\n",
    "\n",
    "model = train_model(\n",
    "    model,\n",
    "    trainDataset,\n",
    "    valDataset,\n",
    "    device,\n",
    "    numberOfEpochs = 1\n",
    ")"
   ]
  },
  {
   "cell_type": "code",
   "execution_count": null,
   "metadata": {},
   "outputs": [],
   "source": [
    "torch.save(model.state_dict(), 'shallow_model.pkl')\n",
    "torch.cuda.empty_cache()"
   ]
  },
  {
   "cell_type": "code",
   "execution_count": null,
   "metadata": {},
   "outputs": [],
   "source": [
    "model.load_state_dict(torch.load(\"shallow_model.pkl\"))"
   ]
  },
  {
   "cell_type": "code",
   "execution_count": null,
   "metadata": {},
   "outputs": [],
   "source": [
    "import eval_model\n",
    "\n",
    "decisionThreshold = 0.5\n",
    "\n",
    "yHats, yTrues = eval_model.test_model(model, valDataset, device, decisionThreshold=decisionThreshold)\n",
    "for metric in ['precision', 'recall', 'f1', 'accuracy']:\n",
    "    print(\"{}: {}\".format(metric, eval_model.get_metric(yTrues, yHats, metric)))"
   ]
  },
  {
   "cell_type": "code",
   "execution_count": null,
   "metadata": {},
   "outputs": [],
   "source": [
    "from example_prediction_shower import showExamplePredictions\n",
    "\n",
    "print(\"Validation images:\")\n",
    "print()\n",
    "showExamplePredictions(model, valDataset, device, 5, decisionThreshold=decisionThreshold)"
   ]
  },
  {
   "cell_type": "code",
   "execution_count": null,
   "metadata": {},
   "outputs": [],
   "source": [
    "print(\"Training images:\")\n",
    "print()\n",
    "showExamplePredictions(model, trainDataset, device, 5, decisionThreshold=decisionThreshold)"
   ]
  },
  {
   "cell_type": "code",
   "execution_count": null,
   "metadata": {},
   "outputs": [],
   "source": []
  }
 ],
 "metadata": {
  "kernelspec": {
   "display_name": "Python 3",
   "language": "python",
   "name": "python3"
  },
  "language_info": {
   "codemirror_mode": {
    "name": "ipython",
    "version": 3
   },
   "file_extension": ".py",
   "mimetype": "text/x-python",
   "name": "python",
   "nbconvert_exporter": "python",
   "pygments_lexer": "ipython3",
   "version": "3.7.6"
  }
 },
 "nbformat": 4,
 "nbformat_minor": 4
}
