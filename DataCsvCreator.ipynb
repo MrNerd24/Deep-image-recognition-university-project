{
 "cells": [
  {
   "cell_type": "code",
   "execution_count": 29,
   "metadata": {},
   "outputs": [],
   "source": [
    "from os import listdir\n",
    "from os.path import isfile, join, abspath, dirname\n",
    "import pandas as pd\n",
    "\n",
    "notebook_path = abspath(\"DataCsvCreator.ipynb\")\n",
    "\n",
    "trainImagesDir = join(dirname(notebook_path), \"train/images\")\n",
    "\n",
    "\n",
    "imageFiles = [f for f in listdir(trainImagesDir) if isfile(join(trainImagesDir, f))]\n",
    "\n",
    "imageNames = list(map(lambda imageFile: int(imageFile[2:-4]), imageFiles))\n",
    "\n",
    "imageNames.sort()\n",
    "\n",
    "table = pd.DataFrame(columns = [\"imageId\"], data = imageNames)\n",
    "\n",
    "\n",
    "trainLabelsDir = join(dirname(notebook_path), \"train/annotations\")\n",
    "\n",
    "trainLabelFiles = [f for f in listdir(trainLabelsDir) if isfile(join(trainLabelsDir, f))]\n",
    "\n",
    "for trainLabelFile in trainLabelFiles:\n",
    "    trainLabel = trainLabelFile[:-4]\n",
    "    file = open(join(trainLabelsDir, trainLabelFile), \"r\")\n",
    "    imageIds = [int(imageId[:-1]) for imageId in file]\n",
    "    tableColumn = list(map(lambda i: 1 if i in imageIds else 0, range(1, len(table)+1)))\n",
    "    table[trainLabel] = tableColumn\n",
    "    \n",
    "table.to_csv(\"image_id_and_labels.csv\", index=False)\n",
    "        "
   ]
  },
  {
   "cell_type": "code",
   "execution_count": null,
   "metadata": {},
   "outputs": [],
   "source": []
  }
 ],
 "metadata": {
  "kernelspec": {
   "display_name": "Python 3",
   "language": "python",
   "name": "python3"
  },
  "language_info": {
   "codemirror_mode": {
    "name": "ipython",
    "version": 3
   },
   "file_extension": ".py",
   "mimetype": "text/x-python",
   "name": "python",
   "nbconvert_exporter": "python",
   "pygments_lexer": "ipython3",
   "version": "3.7.6"
  }
 },
 "nbformat": 4,
 "nbformat_minor": 4
}
