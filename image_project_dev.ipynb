{
 "cells": [
  {
   "cell_type": "markdown",
   "metadata": {},
   "source": [
    "# DATA20001 Deep Learning - Group Project\n",
    "## Image project\n",
    "\n",
    "**Due Thursday, May 20, before 23:59.**\n",
    "\n",
    "The task is to learn to assign the correct labels to a set of images.  The images are originally from a photo-sharing site and released under Creative Commons-licenses allowing sharing.  The training set contains 20 000 images. We have resized them and cropped them to 128x128 to make the task a bit more manageable.\n",
    "\n",
    "We're only giving you the code for downloading the data. The rest you'll have to do yourselves.\n",
    "\n",
    "Some comments and hints particular to the image project:\n",
    "\n",
    "- One image may belong to many classes in this problem, i.e., it's a multi-label classification problem. In fact there are images that don't belong to any of our classes, and you should also be able to handle these correctly. Pay careful attention to how you design the outputs of the network (e.g., what activation to use) and what loss function should be used.\n",
    "\n",
    "- As the dataset is pretty imbalanced, don't focus too strictly on the outputs being probabilistic. (Meaning that the right threshold for selecting the label might not be 0.5.)\n",
    "\n",
    "- Image files can be loaded as numpy matrices for example using `imread` from `matplotlib.pyplot`. Most images are color, but a few grayscale. You need to handle the grayscale ones somehow as they would have a different number of color channels (depth) than the color ones.\n",
    "\n",
    "- In the exercises we used e.g., `torchvision.datasets.MNIST` to handle the loading of the data in suitable batches. Here, you need to handle the dataloading yourself.  The easiest way is probably to create a custom `Dataset`. [See for example here for a tutorial](https://github.com/utkuozbulak/pytorch-custom-dataset-examples)."
   ]
  },
  {
   "cell_type": "code",
   "execution_count": 1,
   "metadata": {},
   "outputs": [],
   "source": [
    "# automatically reload dependencies and repository content so that kernel need not be restarted\n",
    "%load_ext autoreload\n",
    "%autoreload 2"
   ]
  },
  {
   "cell_type": "markdown",
   "metadata": {},
   "source": [
    "## Get the data"
   ]
  },
  {
   "cell_type": "code",
   "execution_count": 2,
   "metadata": {},
   "outputs": [],
   "source": [
    "import sys\n",
    "import os\n",
    "from os.path import join\n",
    "from os.path import abspath\n",
    "from os.path import split\n",
    "\n",
    "import torch\n",
    "import torchvision\n",
    "from torchvision.datasets.utils import download_url\n",
    "import zipfile\n",
    "\n",
    "import numpy as np\n",
    "import pandas as pd\n",
    "from matplotlib.pyplot import imread\n",
    "\n",
    "root_dir = os.getcwd()\n",
    "if root_dir not in sys.path:\n",
    "    sys.path.append(root_dir)\n",
    "\n",
    "train_path = 'train'\n",
    "test_path = 'test'\n",
    "\n",
    "data_zip_name = 'dl2018-image-proj.zip'\n",
    "DATA_ZIP_DIR = os.path.abspath(os.path.join(root_dir, data_zip_name))\n",
    "\n",
    "with zipfile.ZipFile(DATA_ZIP_DIR) as zip_f:\n",
    "    zip_f.extractall(train_path)"
   ]
  },
  {
   "cell_type": "code",
   "execution_count": 78,
   "metadata": {},
   "outputs": [
    {
     "data": {
      "text/html": [
       "<div>\n",
       "<style scoped>\n",
       "    .dataframe tbody tr th:only-of-type {\n",
       "        vertical-align: middle;\n",
       "    }\n",
       "\n",
       "    .dataframe tbody tr th {\n",
       "        vertical-align: top;\n",
       "    }\n",
       "\n",
       "    .dataframe thead th {\n",
       "        text-align: right;\n",
       "    }\n",
       "</style>\n",
       "<table border=\"1\" class=\"dataframe\">\n",
       "  <thead>\n",
       "    <tr style=\"text-align: right;\">\n",
       "      <th></th>\n",
       "      <th>filename</th>\n",
       "      <th>clouds</th>\n",
       "      <th>male</th>\n",
       "      <th>bird</th>\n",
       "      <th>dog</th>\n",
       "      <th>river</th>\n",
       "      <th>portrait</th>\n",
       "      <th>baby</th>\n",
       "      <th>night</th>\n",
       "      <th>people</th>\n",
       "      <th>female</th>\n",
       "      <th>sea</th>\n",
       "      <th>tree</th>\n",
       "      <th>car</th>\n",
       "      <th>flower</th>\n",
       "    </tr>\n",
       "  </thead>\n",
       "  <tbody>\n",
       "    <tr>\n",
       "      <th>1</th>\n",
       "      <td>im1.jpg</td>\n",
       "      <td>0.0</td>\n",
       "      <td>0.0</td>\n",
       "      <td>0.0</td>\n",
       "      <td>0.0</td>\n",
       "      <td>0.0</td>\n",
       "      <td>1.0</td>\n",
       "      <td>0.0</td>\n",
       "      <td>0.0</td>\n",
       "      <td>1.0</td>\n",
       "      <td>1.0</td>\n",
       "      <td>0.0</td>\n",
       "      <td>0.0</td>\n",
       "      <td>0.0</td>\n",
       "      <td>0.0</td>\n",
       "    </tr>\n",
       "    <tr>\n",
       "      <th>2</th>\n",
       "      <td>im2.jpg</td>\n",
       "      <td>0.0</td>\n",
       "      <td>0.0</td>\n",
       "      <td>0.0</td>\n",
       "      <td>0.0</td>\n",
       "      <td>0.0</td>\n",
       "      <td>0.0</td>\n",
       "      <td>0.0</td>\n",
       "      <td>0.0</td>\n",
       "      <td>0.0</td>\n",
       "      <td>0.0</td>\n",
       "      <td>0.0</td>\n",
       "      <td>0.0</td>\n",
       "      <td>0.0</td>\n",
       "      <td>0.0</td>\n",
       "    </tr>\n",
       "    <tr>\n",
       "      <th>3</th>\n",
       "      <td>im3.jpg</td>\n",
       "      <td>0.0</td>\n",
       "      <td>0.0</td>\n",
       "      <td>0.0</td>\n",
       "      <td>0.0</td>\n",
       "      <td>0.0</td>\n",
       "      <td>0.0</td>\n",
       "      <td>0.0</td>\n",
       "      <td>0.0</td>\n",
       "      <td>0.0</td>\n",
       "      <td>0.0</td>\n",
       "      <td>0.0</td>\n",
       "      <td>0.0</td>\n",
       "      <td>0.0</td>\n",
       "      <td>0.0</td>\n",
       "    </tr>\n",
       "    <tr>\n",
       "      <th>4</th>\n",
       "      <td>im4.jpg</td>\n",
       "      <td>0.0</td>\n",
       "      <td>1.0</td>\n",
       "      <td>0.0</td>\n",
       "      <td>0.0</td>\n",
       "      <td>0.0</td>\n",
       "      <td>0.0</td>\n",
       "      <td>0.0</td>\n",
       "      <td>0.0</td>\n",
       "      <td>1.0</td>\n",
       "      <td>0.0</td>\n",
       "      <td>0.0</td>\n",
       "      <td>0.0</td>\n",
       "      <td>0.0</td>\n",
       "      <td>0.0</td>\n",
       "    </tr>\n",
       "    <tr>\n",
       "      <th>5</th>\n",
       "      <td>im5.jpg</td>\n",
       "      <td>0.0</td>\n",
       "      <td>1.0</td>\n",
       "      <td>0.0</td>\n",
       "      <td>0.0</td>\n",
       "      <td>0.0</td>\n",
       "      <td>0.0</td>\n",
       "      <td>0.0</td>\n",
       "      <td>0.0</td>\n",
       "      <td>1.0</td>\n",
       "      <td>0.0</td>\n",
       "      <td>0.0</td>\n",
       "      <td>0.0</td>\n",
       "      <td>0.0</td>\n",
       "      <td>0.0</td>\n",
       "    </tr>\n",
       "  </tbody>\n",
       "</table>\n",
       "</div>"
      ],
      "text/plain": [
       "  filename  clouds  male  bird  dog  river  portrait  baby  night  people  \\\n",
       "1  im1.jpg     0.0   0.0   0.0  0.0    0.0       1.0   0.0    0.0     1.0   \n",
       "2  im2.jpg     0.0   0.0   0.0  0.0    0.0       0.0   0.0    0.0     0.0   \n",
       "3  im3.jpg     0.0   0.0   0.0  0.0    0.0       0.0   0.0    0.0     0.0   \n",
       "4  im4.jpg     0.0   1.0   0.0  0.0    0.0       0.0   0.0    0.0     1.0   \n",
       "5  im5.jpg     0.0   1.0   0.0  0.0    0.0       0.0   0.0    0.0     1.0   \n",
       "\n",
       "   female  sea  tree  car  flower  \n",
       "1     1.0  0.0   0.0  0.0     0.0  \n",
       "2     0.0  0.0   0.0  0.0     0.0  \n",
       "3     0.0  0.0   0.0  0.0     0.0  \n",
       "4     0.0  0.0   0.0  0.0     0.0  \n",
       "5     0.0  0.0   0.0  0.0     0.0  "
      ]
     },
     "execution_count": 78,
     "metadata": {},
     "output_type": "execute_result"
    }
   ],
   "source": [
    "# create pd dataframe to store mapping from image to all labels easily\n",
    "# Check this out to create custome data loader: https://github.com/utkuozbulak/pytorch-custom-dataset-examples\n",
    "path = 'annotations/'\n",
    "filenames = os.listdir(path)\n",
    "res = {\"filename\": [f\"im{i}.jpg\" for i in range(20001)]}\n",
    "\n",
    "for fname in filenames:\n",
    "    _name = fname[:-4]\n",
    "    data = open(path+fname, \"r\").read().splitlines()\n",
    "    data = np.array(list(map(int, data)))\n",
    "    np_vec = np.zeros(20001)\n",
    "    np_vec[data] = 1\n",
    "    res[_name] = np_vec\n",
    "\n",
    "df = pd.DataFrame(res)\n",
    "df.drop(0, axis=0, inplace=True)\n",
    "df.to_csv(\"file_to_labels_table.csv\", index=False)\n",
    "df.head()"
   ]
  },
  {
   "cell_type": "code",
   "execution_count": 80,
   "metadata": {},
   "outputs": [
    {
     "name": "stdout",
     "output_type": "stream",
     "text": [
      "(20000, 15)\n",
      "10176 9824 20000\n",
      "filename    im1.jpgim2.jpgim3.jpgim4.jpgim5.jpgim6.jpgim7....\n",
      "clouds                                                   1095\n",
      "male                                                     2979\n",
      "bird                                                      360\n",
      "dog                                                       448\n",
      "river                                                     120\n",
      "portrait                                                 3121\n",
      "baby                                                       95\n",
      "night                                                     598\n",
      "people                                                   6403\n",
      "female                                                   3227\n",
      "sea                                                       173\n",
      "tree                                                      525\n",
      "car                                                       319\n",
      "flower                                                    761\n",
      "dtype: object\n"
     ]
    }
   ],
   "source": [
    "df = pd.read_csv(\"file_to_labels_table.csv\")\n",
    "tmp = df.sum(axis=1)\n",
    "zeroes = (tmp==0)\n",
    "nonzeroes = (tmp!=0)\n",
    "\n",
    "print(df.shape)\n",
    "print(nonzeroes.sum(), zeroes.sum(), nonzeroes.sum()+zeroes.sum())\n",
    "print(df.sum(axis=0))"
   ]
  },
  {
   "cell_type": "code",
   "execution_count": 92,
   "metadata": {},
   "outputs": [
    {
     "name": "stdout",
     "output_type": "stream",
     "text": [
      "split index 18000\n",
      "index lengths: 18000 2000\n",
      "[]\n",
      "filename    im18995.jpgim4067.jpgim4819.jpgim15437.jpgim73...\n",
      "clouds                                                    114\n",
      "male                                                      298\n",
      "bird                                                       37\n",
      "dog                                                        38\n",
      "river                                                      13\n",
      "portrait                                                  298\n",
      "baby                                                       11\n",
      "night                                                      51\n",
      "people                                                    660\n",
      "female                                                    314\n",
      "sea                                                        15\n",
      "tree                                                       61\n",
      "car                                                        36\n",
      "flower                                                     69\n",
      "dtype: object\n"
     ]
    }
   ],
   "source": [
    "# shuffle array and perform train/test split\n",
    "arr = np.arange(20000)\n",
    "np.random.shuffle(arr)\n",
    "\n",
    "# first 90% for training, remaining 10% for testing\n",
    "split_index = int(arr.shape[0]*.9)\n",
    "print(\"split index\", split_index)\n",
    "train_idx = arr[:split_index]\n",
    "test_idx = arr[split_index:]\n",
    "print(\"index lengths:\", train_idx.shape[0], test_idx.shape[0])\n",
    "assert len(np.intersect1d(train_idx, test_idx)) == 0, \"The two sets should be mutually exclusive\"\n",
    "\n",
    "# take the subset of the label data for each dataset\n",
    "labels_train = df.iloc[train_idx, :]\n",
    "labels_test = df.iloc[test_idx, :]\n",
    "print(labels_test.sum(axis=0))"
   ]
  },
  {
   "cell_type": "code",
   "execution_count": 33,
   "metadata": {},
   "outputs": [
    {
     "name": "stdout",
     "output_type": "stream",
     "text": [
      "18578\n",
      "1422\n"
     ]
    }
   ],
   "source": [
    "path = 'images/'\n",
    "filenames = os.listdir(path)\n",
    "# vec = imread(\"images/im20000.jpg\")\n",
    "color_count = 0\n",
    "grey_count = 0\n",
    "for i in range(1, 20001):\n",
    "    vec = imread(f\"images/im{i}.jpg\")\n",
    "    if (vec.shape == (128, 128, 3)):\n",
    "        color_count += 1\n",
    "    elif (vec.shape == (128, 128)):\n",
    "        grey_count += 1\n",
    "    else:\n",
    "        raise NotImplemented(\"da fugelis\")\n",
    "print(color_count)\n",
    "print(grey_count)\n",
    "#for fname in filenames:\n",
    "#    with open(path+fname, \"r\") as f:\n",
    "#        data = f.readlines()\n",
    "#        all_labels.extend(data)\n",
    "#        counter += len(data)\n",
    "#print(type(vec))\n",
    "#print(len(filenames))"
   ]
  },
  {
   "cell_type": "markdown",
   "metadata": {},
   "source": [
    "The above command downloaded and extracted the data files into the `train` subdirectory.\n",
    "\n",
    "The images can be found in `train/images`, and are named as `im1.jpg`, `im2.jpg` and so on until `im20000.jpg`.\n",
    "\n",
    "The class labels, or annotations, can be found in `train/annotations` as `CLASSNAME.txt`, where CLASSNAME is one of the fourteen classes: *baby, bird, car, clouds, dog, female, flower, male, night, people, portrait, river, sea,* and *tree*.\n",
    "\n",
    "Each annotation file is a simple text file that lists the images that depict that class, one per line. The images are listed with their number, not the full filename. For example `5969` refers to the image `im5969.jpg`."
   ]
  },
  {
   "cell_type": "markdown",
   "metadata": {},
   "source": [
    "## Your stuff goes here ..."
   ]
  },
  {
   "cell_type": "code",
   "execution_count": null,
   "metadata": {},
   "outputs": [],
   "source": [
    "# Here goes your code ..."
   ]
  },
  {
   "cell_type": "markdown",
   "metadata": {},
   "source": [
    "## Save your model\n",
    "\n",
    "It might be useful to save your model if you want to continue your work later, or use it for inference later."
   ]
  },
  {
   "cell_type": "code",
   "execution_count": null,
   "metadata": {},
   "outputs": [],
   "source": [
    "torch.save(model.state_dict(), 'model.pkl')"
   ]
  },
  {
   "cell_type": "markdown",
   "metadata": {},
   "source": [
    "The model file should now be visible in the \"Home\" screen of the jupyter notebooks interface.  There you should be able to select it and press \"download\".  [See more here on how to load the model back](https://github.com/pytorch/pytorch/blob/761d6799beb3afa03657a71776412a2171ee7533/docs/source/notes/serialization.rst) if you want to continue training later."
   ]
  },
  {
   "cell_type": "markdown",
   "metadata": {},
   "source": [
    "## Download test set\n",
    "\n",
    "The testset will be made available during the last week before the deadline and can be downloaded in the same way as the training set."
   ]
  },
  {
   "cell_type": "markdown",
   "metadata": {},
   "source": [
    "## Predict for test set\n",
    "\n",
    "You should return your predictions for the test set in a plain text file.  The text file contains one row for each test set image.  Each row contains a binary prediction for each label (separated by a single space), 1 if it's present in the image, and 0 if not. The order of the labels is as follows (alphabetic order of the label names):\n",
    "\n",
    "    baby bird car clouds dog female flower male night people portrait river sea tree\n",
    "\n",
    "An example row could like like this if your system predicts the presense of a bird and clouds:\n",
    "\n",
    "    0 1 0 1 0 0 0 0 0 0 0 0 0 0\n",
    "    \n",
    "The order of the rows should be according to the numeric order of the image numbers.  In the test set, this means that the first row refers to image `im20001.jpg`, the second to `im20002.jpg`, and so on."
   ]
  },
  {
   "cell_type": "markdown",
   "metadata": {},
   "source": [
    "If you have the prediction output matrix prepared in `y` you can use the following function to save it to a text file."
   ]
  },
  {
   "cell_type": "code",
   "execution_count": null,
   "metadata": {},
   "outputs": [],
   "source": [
    "np.savetxt('results.txt', y, fmt='%d')"
   ]
  }
 ],
 "metadata": {
  "kernelspec": {
   "display_name": "Python 3",
   "language": "python",
   "name": "python3"
  },
  "language_info": {
   "codemirror_mode": {
    "name": "ipython",
    "version": 3
   },
   "file_extension": ".py",
   "mimetype": "text/x-python",
   "name": "python",
   "nbconvert_exporter": "python",
   "pygments_lexer": "ipython3",
   "version": "3.7.2"
  }
 },
 "nbformat": 4,
 "nbformat_minor": 2
}
